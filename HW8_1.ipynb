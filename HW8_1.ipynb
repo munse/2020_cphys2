{
  "nbformat": 4,
  "nbformat_minor": 0,
  "metadata": {
    "colab": {
      "name": "HW_8_1.ipynb",
      "provenance": [],
      "toc_visible": true
    },
    "kernelspec": {
      "name": "python3",
      "display_name": "Python 3"
    }
  },
  "cells": [
    {
      "cell_type": "code",
      "metadata": {
        "id": "ZwToFPCLaUsU"
      },
      "source": [
        "# MNIST"
      ],
      "execution_count": 1,
      "outputs": []
    },
    {
      "cell_type": "code",
      "metadata": {
        "id": "K9UNF3sSaXko"
      },
      "source": [
        "import numpy as np\n",
        "from tensorflow import keras\n",
        "from keras import models \n",
        "from keras import layers\n",
        "from keras.datasets import mnist\n",
        "from keras.utils import to_categorical\n",
        "import matplotlib.pyplot as plt"
      ],
      "execution_count": 2,
      "outputs": []
    },
    {
      "cell_type": "code",
      "metadata": {
        "id": "lOIID0yqaav9",
        "outputId": "ad08ede2-a9f7-4245-d602-393d3958b765",
        "colab": {
          "base_uri": "https://localhost:8080/"
        }
      },
      "source": [
        "(X_train, y_train), (X_test, y_test) = mnist.load_data()\n",
        "y_train=to_categorical(y_train)\n",
        "y_test=to_categorical(y_test)\n",
        "\n",
        "net = models.Sequential()\n",
        "net.add(layers.Dense(512, activation='relu', input_shape=(28*28,))) \n",
        "net.add(layers.Dense(512, activation='relu')) \n",
        "net.add(layers.Dense(512, activation='relu')) \n",
        "net.add(layers.Dense(10, activation='softmax')) \n",
        "net.compile(optimizer='nadam',loss='categorical_crossentropy',metrics=['acc'])\n",
        "\n",
        "# preprocessing\n",
        "X_train = X_train.reshape((60000, 28*28))\n",
        "X_train = X_train/255\n",
        "\n",
        "X_test = X_test.reshape((10000, 28*28))\n",
        "X_test = X_test/255"
      ],
      "execution_count": 3,
      "outputs": [
        {
          "output_type": "stream",
          "text": [
            "Downloading data from https://storage.googleapis.com/tensorflow/tf-keras-datasets/mnist.npz\n",
            "11493376/11490434 [==============================] - 0s 0us/step\n"
          ],
          "name": "stdout"
        }
      ]
    },
    {
      "cell_type": "code",
      "metadata": {
        "id": "shxc_MdVadDs",
        "outputId": "5f7b535d-fda0-45da-fd26-8a45541f4cd4",
        "colab": {
          "base_uri": "https://localhost:8080/"
        }
      },
      "source": [
        "net.summary()"
      ],
      "execution_count": 4,
      "outputs": [
        {
          "output_type": "stream",
          "text": [
            "Model: \"sequential\"\n",
            "_________________________________________________________________\n",
            "Layer (type)                 Output Shape              Param #   \n",
            "=================================================================\n",
            "dense (Dense)                (None, 512)               401920    \n",
            "_________________________________________________________________\n",
            "dense_1 (Dense)              (None, 512)               262656    \n",
            "_________________________________________________________________\n",
            "dense_2 (Dense)              (None, 512)               262656    \n",
            "_________________________________________________________________\n",
            "dense_3 (Dense)              (None, 10)                5130      \n",
            "=================================================================\n",
            "Total params: 932,362\n",
            "Trainable params: 932,362\n",
            "Non-trainable params: 0\n",
            "_________________________________________________________________\n"
          ],
          "name": "stdout"
        }
      ]
    },
    {
      "cell_type": "code",
      "metadata": {
        "id": "xsOv1TGDdZ5i"
      },
      "source": [
        "from google.colab import drive\n",
        "drive.mount('/content/drive')"
      ],
      "execution_count": null,
      "outputs": []
    },
    {
      "cell_type": "code",
      "metadata": {
        "id": "6gzrbqsAahZ1",
        "outputId": "e938f2cc-676c-49d0-8127-96a5193b7b26",
        "colab": {
          "base_uri": "https://localhost:8080/"
        }
      },
      "source": [
        "net.fit(X_train, y_train, epochs=1, batch_size=128)"
      ],
      "execution_count": 5,
      "outputs": [
        {
          "output_type": "stream",
          "text": [
            "469/469 [==============================] - 12s 25ms/step - loss: 0.2107 - acc: 0.9356\n"
          ],
          "name": "stdout"
        },
        {
          "output_type": "execute_result",
          "data": {
            "text/plain": [
              "<tensorflow.python.keras.callbacks.History at 0x7f10a8f4b710>"
            ]
          },
          "metadata": {
            "tags": []
          },
          "execution_count": 5
        }
      ]
    },
    {
      "cell_type": "code",
      "metadata": {
        "id": "H4XQ4M93ajef",
        "outputId": "177b82b9-a57b-44b5-d640-590cf84e9bd0",
        "colab": {
          "base_uri": "https://localhost:8080/"
        }
      },
      "source": [
        "test_loss, test_acc = net.evaluate(X_test,y_test)"
      ],
      "execution_count": 6,
      "outputs": [
        {
          "output_type": "stream",
          "text": [
            "313/313 [==============================] - 1s 3ms/step - loss: 0.1026 - acc: 0.9672\n"
          ],
          "name": "stdout"
        }
      ]
    },
    {
      "cell_type": "code",
      "metadata": {
        "id": "4ATHmDf6aqtg",
        "outputId": "ecdf309f-1800-4f48-8ba5-1e1b3e75a81f",
        "colab": {
          "base_uri": "https://localhost:8080/"
        }
      },
      "source": [
        "X_train.shape"
      ],
      "execution_count": 7,
      "outputs": [
        {
          "output_type": "execute_result",
          "data": {
            "text/plain": [
              "(60000, 784)"
            ]
          },
          "metadata": {
            "tags": []
          },
          "execution_count": 7
        }
      ]
    },
    {
      "cell_type": "code",
      "metadata": {
        "id": "mFAGfpWFauJr"
      },
      "source": [
        "X_val = X_train[:10000]\n",
        "partial_X_train = X_train[10000:]\n",
        "\n",
        "y_val = y_train[:10000]\n",
        "partial_y_train = y_train[10000:]"
      ],
      "execution_count": 8,
      "outputs": []
    },
    {
      "cell_type": "code",
      "metadata": {
        "id": "nA3_DTfBawF5",
        "outputId": "dbc8a57f-9696-49eb-ffd1-eb5ccacb3d16",
        "colab": {
          "base_uri": "https://localhost:8080/"
        }
      },
      "source": [
        "val = net.fit(partial_X_train,partial_y_train,epochs=20, batch_size=128, validation_data=(X_val, y_val))"
      ],
      "execution_count": 9,
      "outputs": [
        {
          "output_type": "stream",
          "text": [
            "Epoch 1/20\n",
            "391/391 [==============================] - 10s 26ms/step - loss: 0.0762 - acc: 0.9758 - val_loss: 0.0760 - val_acc: 0.9772\n",
            "Epoch 2/20\n",
            "391/391 [==============================] - 10s 26ms/step - loss: 0.0469 - acc: 0.9846 - val_loss: 0.0909 - val_acc: 0.9738\n",
            "Epoch 3/20\n",
            "391/391 [==============================] - 10s 26ms/step - loss: 0.0369 - acc: 0.9877 - val_loss: 0.1170 - val_acc: 0.9689\n",
            "Epoch 4/20\n",
            "391/391 [==============================] - 10s 26ms/step - loss: 0.0304 - acc: 0.9898 - val_loss: 0.0852 - val_acc: 0.9771\n",
            "Epoch 5/20\n",
            "391/391 [==============================] - 10s 26ms/step - loss: 0.0246 - acc: 0.9913 - val_loss: 0.0742 - val_acc: 0.9820\n",
            "Epoch 6/20\n",
            "391/391 [==============================] - 10s 26ms/step - loss: 0.0241 - acc: 0.9919 - val_loss: 0.0966 - val_acc: 0.9762\n",
            "Epoch 7/20\n",
            "391/391 [==============================] - 10s 26ms/step - loss: 0.0184 - acc: 0.9939 - val_loss: 0.0871 - val_acc: 0.9798\n",
            "Epoch 8/20\n",
            "391/391 [==============================] - 10s 26ms/step - loss: 0.0183 - acc: 0.9938 - val_loss: 0.0958 - val_acc: 0.9777\n",
            "Epoch 9/20\n",
            "391/391 [==============================] - 10s 26ms/step - loss: 0.0176 - acc: 0.9944 - val_loss: 0.0982 - val_acc: 0.9786\n",
            "Epoch 10/20\n",
            "391/391 [==============================] - 10s 26ms/step - loss: 0.0181 - acc: 0.9942 - val_loss: 0.0806 - val_acc: 0.9818\n",
            "Epoch 11/20\n",
            "391/391 [==============================] - 10s 26ms/step - loss: 0.0112 - acc: 0.9963 - val_loss: 0.0684 - val_acc: 0.9851\n",
            "Epoch 12/20\n",
            "391/391 [==============================] - 10s 26ms/step - loss: 0.0105 - acc: 0.9966 - val_loss: 0.0968 - val_acc: 0.9809\n",
            "Epoch 13/20\n",
            "391/391 [==============================] - 10s 26ms/step - loss: 0.0128 - acc: 0.9960 - val_loss: 0.0973 - val_acc: 0.9797\n",
            "Epoch 14/20\n",
            "391/391 [==============================] - 10s 26ms/step - loss: 0.0115 - acc: 0.9961 - val_loss: 0.0919 - val_acc: 0.9807\n",
            "Epoch 15/20\n",
            "391/391 [==============================] - 10s 27ms/step - loss: 0.0123 - acc: 0.9963 - val_loss: 0.0968 - val_acc: 0.9812\n",
            "Epoch 16/20\n",
            "391/391 [==============================] - 10s 26ms/step - loss: 0.0100 - acc: 0.9972 - val_loss: 0.1038 - val_acc: 0.9804\n",
            "Epoch 17/20\n",
            "391/391 [==============================] - 10s 26ms/step - loss: 0.0090 - acc: 0.9973 - val_loss: 0.1059 - val_acc: 0.9792\n",
            "Epoch 18/20\n",
            "391/391 [==============================] - 10s 26ms/step - loss: 0.0107 - acc: 0.9969 - val_loss: 0.0802 - val_acc: 0.9828\n",
            "Epoch 19/20\n",
            "391/391 [==============================] - 10s 26ms/step - loss: 0.0070 - acc: 0.9980 - val_loss: 0.1046 - val_acc: 0.9812\n",
            "Epoch 20/20\n",
            "391/391 [==============================] - 10s 26ms/step - loss: 0.0094 - acc: 0.9973 - val_loss: 0.0788 - val_acc: 0.9837\n"
          ],
          "name": "stdout"
        }
      ]
    },
    {
      "cell_type": "code",
      "metadata": {
        "id": "mqZJ4eboayme"
      },
      "source": [
        "val_dict = val.history\n",
        "loss = val_dict['loss']\n",
        "val_loss = val_dict['val_loss']"
      ],
      "execution_count": 10,
      "outputs": []
    },
    {
      "cell_type": "code",
      "metadata": {
        "id": "kgOreLjabn2D",
        "outputId": "c52fbde1-da3a-4778-b375-5dadf54e7006",
        "colab": {
          "base_uri": "https://localhost:8080/",
          "height": 283
        }
      },
      "source": [
        "x = np.arange(0,len(loss))\n",
        "plt.plot(x,loss,'bo',label='E')\n",
        "plt.plot(x,val_loss,'ro',label='$E_v$')\n",
        "plt.legend()"
      ],
      "execution_count": 11,
      "outputs": [
        {
          "output_type": "execute_result",
          "data": {
            "text/plain": [
              "<matplotlib.legend.Legend at 0x7f10a56a5278>"
            ]
          },
          "metadata": {
            "tags": []
          },
          "execution_count": 11
        },
        {
          "output_type": "display_data",
          "data": {
            "image/png": "[encoded data removed]",
            "text/plain": [
              "<Figure size 432x288 with 1 Axes>"
            ]
          },
          "metadata": {
            "tags": [],
            "needs_background": "light"
          }
        }
      ]
    },
    {
      "cell_type": "code",
      "metadata": {
        "id": "TzjMygUibqh4",
        "outputId": "b8268e97-b902-4da1-86b3-3d09e237df15",
        "colab": {
          "base_uri": "https://localhost:8080/",
          "height": 283
        }
      },
      "source": [
        "acc = val_dict['acc']\n",
        "val_acc = val_dict['val_acc']\n",
        "plt.plot(x,acc,'bo',label='Accuracy')\n",
        "plt.plot(x,val_acc,'ro',label='A_v')"
      ],
      "execution_count": 12,
      "outputs": [
        {
          "output_type": "execute_result",
          "data": {
            "text/plain": [
              "[<matplotlib.lines.Line2D at 0x7f10a562b550>]"
            ]
          },
          "metadata": {
            "tags": []
          },
          "execution_count": 12
        },
        {
          "output_type": "display_data",
          "data": {
            "image/png": "[encoded data removed]",
            "text/plain": [
              "<Figure size 432x288 with 1 Axes>"
            ]
          },
          "metadata": {
            "tags": [],
            "needs_background": "light"
          }
        }
      ]
    },
    {
      "cell_type": "code",
      "metadata": {
        "id": "Djeb4-WXbw1L"
      },
      "source": [
        "model = models.Sequential()\n",
        "model.add(layers.Dense(512, activation='relu', input_shape=(28*28,))) \n",
        "model.add(layers.Dropout(0.5))  \n",
        "model.add(layers.Dense(512, activation='relu')) \n",
        "model.add(layers.Dropout(0.5))  \n",
        "model.add(layers.Dense(10, activation='softmax')) \n",
        "model.compile(optimizer='nadam',loss='categorical_crossentropy',metrics=['acc'])"
      ],
      "execution_count": 13,
      "outputs": []
    },
    {
      "cell_type": "code",
      "metadata": {
        "id": "DoflzDUtb0MP",
        "outputId": "7020b8de-1a56-4220-d43d-03af1d918cab",
        "colab": {
          "base_uri": "https://localhost:8080/"
        }
      },
      "source": [
        "val2= model.fit(partial_X_train,partial_y_train,epochs=20, batch_size=128, validation_data=(X_val, y_val))"
      ],
      "execution_count": 14,
      "outputs": [
        {
          "output_type": "stream",
          "text": [
            "Epoch 1/20\n",
            "391/391 [==============================] - 8s 20ms/step - loss: 0.3745 - acc: 0.8851 - val_loss: 0.1435 - val_acc: 0.9535\n",
            "Epoch 2/20\n",
            "391/391 [==============================] - 8s 20ms/step - loss: 0.1715 - acc: 0.9475 - val_loss: 0.1146 - val_acc: 0.9656\n",
            "Epoch 3/20\n",
            "391/391 [==============================] - 8s 20ms/step - loss: 0.1335 - acc: 0.9589 - val_loss: 0.0916 - val_acc: 0.9740\n",
            "Epoch 4/20\n",
            "391/391 [==============================] - 8s 20ms/step - loss: 0.1084 - acc: 0.9673 - val_loss: 0.0791 - val_acc: 0.9765\n",
            "Epoch 5/20\n",
            "391/391 [==============================] - 8s 20ms/step - loss: 0.0964 - acc: 0.9696 - val_loss: 0.0740 - val_acc: 0.9780\n",
            "Epoch 6/20\n",
            "391/391 [==============================] - 8s 20ms/step - loss: 0.0855 - acc: 0.9742 - val_loss: 0.0742 - val_acc: 0.9785\n",
            "Epoch 7/20\n",
            "391/391 [==============================] - 8s 20ms/step - loss: 0.0787 - acc: 0.9757 - val_loss: 0.0740 - val_acc: 0.9780\n",
            "Epoch 8/20\n",
            "391/391 [==============================] - 9s 22ms/step - loss: 0.0748 - acc: 0.9758 - val_loss: 0.0669 - val_acc: 0.9811\n",
            "Epoch 9/20\n",
            "391/391 [==============================] - 12s 31ms/step - loss: 0.0689 - acc: 0.9779 - val_loss: 0.0673 - val_acc: 0.9808\n",
            "Epoch 10/20\n",
            "391/391 [==============================] - 8s 20ms/step - loss: 0.0632 - acc: 0.9801 - val_loss: 0.0718 - val_acc: 0.9798\n",
            "Epoch 11/20\n",
            "391/391 [==============================] - 8s 20ms/step - loss: 0.0612 - acc: 0.9795 - val_loss: 0.0678 - val_acc: 0.9803\n",
            "Epoch 12/20\n",
            "391/391 [==============================] - 8s 20ms/step - loss: 0.0596 - acc: 0.9805 - val_loss: 0.0684 - val_acc: 0.9812\n",
            "Epoch 13/20\n",
            "391/391 [==============================] - 8s 20ms/step - loss: 0.0540 - acc: 0.9822 - val_loss: 0.0720 - val_acc: 0.9808\n",
            "Epoch 14/20\n",
            "391/391 [==============================] - 8s 20ms/step - loss: 0.0524 - acc: 0.9829 - val_loss: 0.0676 - val_acc: 0.9805\n",
            "Epoch 15/20\n",
            "391/391 [==============================] - 8s 20ms/step - loss: 0.0513 - acc: 0.9835 - val_loss: 0.0722 - val_acc: 0.9811\n",
            "Epoch 16/20\n",
            "391/391 [==============================] - 8s 20ms/step - loss: 0.0534 - acc: 0.9830 - val_loss: 0.0658 - val_acc: 0.9829\n",
            "Epoch 17/20\n",
            "391/391 [==============================] - 8s 20ms/step - loss: 0.0483 - acc: 0.9847 - val_loss: 0.0749 - val_acc: 0.9799\n",
            "Epoch 18/20\n",
            "391/391 [==============================] - 8s 20ms/step - loss: 0.0481 - acc: 0.9844 - val_loss: 0.0691 - val_acc: 0.9815\n",
            "Epoch 19/20\n",
            "391/391 [==============================] - 8s 20ms/step - loss: 0.0435 - acc: 0.9861 - val_loss: 0.0690 - val_acc: 0.9822\n",
            "Epoch 20/20\n",
            "391/391 [==============================] - 8s 21ms/step - loss: 0.0460 - acc: 0.9853 - val_loss: 0.0678 - val_acc: 0.9835\n"
          ],
          "name": "stdout"
        }
      ]
    },
    {
      "cell_type": "code",
      "metadata": {
        "id": "IoTiZZ1Yb4JZ",
        "outputId": "bd4ca422-dd79-4ba5-dfdc-d9741b44b559",
        "colab": {
          "base_uri": "https://localhost:8080/",
          "height": 283
        }
      },
      "source": [
        "val_dict = val2.history\n",
        "loss = val_dict['loss']\n",
        "val_loss = val_dict['val_loss']\n",
        "\n",
        "x = np.arange(0,len(loss))\n",
        "plt.plot(x,loss,'bo',label='E')\n",
        "plt.plot(x,val_loss,'ro',label='$E_v$')\n",
        "plt.legend()"
      ],
      "execution_count": 15,
      "outputs": [
        {
          "output_type": "execute_result",
          "data": {
            "text/plain": [
              "<matplotlib.legend.Legend at 0x7f10a4f0f080>"
            ]
          },
          "metadata": {
            "tags": []
          },
          "execution_count": 15
        },
        {
          "output_type": "display_data",
          "data": {
            "image/png": "[encoded data removed]",
            "text/plain": [
              "<Figure size 432x288 with 1 Axes>"
            ]
          },
          "metadata": {
            "tags": [],
            "needs_background": "light"
          }
        }
      ]
    },
    {
      "cell_type": "code",
      "metadata": {
        "id": "fqU0xxYoch93",
        "outputId": "6f6d31bb-d493-4cca-8977-8fcf077e6385",
        "colab": {
          "base_uri": "https://localhost:8080/",
          "height": 283
        }
      },
      "source": [
        "acc = val_dict['acc']\n",
        "val_acc = val_dict['val_acc']\n",
        "plt.plot(x,acc,'bo',label='Accuracy')\n",
        "plt.plot(x,val_acc,'ro',label='A_v')"
      ],
      "execution_count": 16,
      "outputs": [
        {
          "output_type": "execute_result",
          "data": {
            "text/plain": [
              "[<matplotlib.lines.Line2D at 0x7f10a562b048>]"
            ]
          },
          "metadata": {
            "tags": []
          },
          "execution_count": 16
        },
        {
          "output_type": "display_data",
          "data": {
            "image/png": "[encoded data removed]",
            "text/plain": [
              "<Figure size 432x288 with 1 Axes>"
            ]
          },
          "metadata": {
            "tags": [],
            "needs_background": "light"
          }
        }
      ]
    },
    {
      "cell_type": "code",
      "metadata": {
        "id": "1UmAabvCckuO",
        "outputId": "9aa6d1b0-be4e-4281-8c10-7f7110841088",
        "colab": {
          "base_uri": "https://localhost:8080/"
        }
      },
      "source": [
        "test_loss, test_acc = net.evaluate(X_test,y_test)"
      ],
      "execution_count": 17,
      "outputs": [
        {
          "output_type": "stream",
          "text": [
            "313/313 [==============================] - 1s 3ms/step - loss: 0.0934 - acc: 0.9821\n"
          ],
          "name": "stdout"
        }
      ]
    },
    {
      "cell_type": "code",
      "metadata": {
        "id": "OVS98aLgcnkb",
        "outputId": "98a0cfe3-fb13-4c4d-f811-0b83377c4d29",
        "colab": {
          "base_uri": "https://localhost:8080/"
        }
      },
      "source": [
        "test_loss, test_acc = model.evaluate(X_test,y_test)"
      ],
      "execution_count": 18,
      "outputs": [
        {
          "output_type": "stream",
          "text": [
            "313/313 [==============================] - 1s 2ms/step - loss: 0.0675 - acc: 0.9824\n"
          ],
          "name": "stdout"
        }
      ]
    },
    {
      "cell_type": "code",
      "metadata": {
        "id": "ZWPgcKzpcp1C"
      },
      "source": [
        ""
      ],
      "execution_count": null,
      "outputs": []
    }
  ]
}