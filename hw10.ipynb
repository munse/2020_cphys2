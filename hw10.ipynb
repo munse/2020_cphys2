{
  "nbformat": 4,
  "nbformat_minor": 0,
  "metadata": {
    "colab": {
      "name": "Untitled5.ipynb",
      "provenance": []
    },
    "kernelspec": {
      "name": "python3",
      "display_name": "Python 3"
    }
  },
  "cells": [
    {
      "cell_type": "code",
      "metadata": {
        "colab": {
          "base_uri": "https://localhost:8080/"
        },
        "id": "CF-BMx-pWS9j",
        "outputId": "cd298508-4ed9-4d31-c482-a0b1f6863774"
      },
      "source": [
        "import numpy as np\n",
        "from tensorflow import keras\n",
        "from keras import models \n",
        "from keras import layers\n",
        "import matplotlib.pyplot as plt\n",
        "\n",
        "from keras.datasets import imdb\n",
        "# https://www.imdb.com/\n",
        "(X, y_train), (X_test, y_test) = imdb.load_data(num_words=10000)"
      ],
      "execution_count": 1,
      "outputs": [
        {
          "output_type": "stream",
          "text": [
            "Downloading data from https://storage.googleapis.com/tensorflow/tf-keras-datasets/imdb.npz\n",
            "17465344/17464789 [==============================] - 0s 0us/step\n"
          ],
          "name": "stdout"
        }
      ]
    },
    {
      "cell_type": "code",
      "metadata": {
        "id": "jXKHwuTNWYYe"
      },
      "source": [
        "def vect(seq, dim=10000):\n",
        "    x=np.zeros((len(seq),dim))\n",
        "    for n, i in enumerate(seq):\n",
        "        x[n, i] = 1\n",
        "    return x\n",
        "\n",
        "X_train=vect(X)\n",
        "X_test=vect(X_test)"
      ],
      "execution_count": 2,
      "outputs": []
    },
    {
      "cell_type": "code",
      "metadata": {
        "colab": {
          "base_uri": "https://localhost:8080/"
        },
        "id": "IVemNcB_WbkC",
        "outputId": "2f1d1cd9-774f-4a2d-c951-500376b882db"
      },
      "source": [
        "X_train[0]"
      ],
      "execution_count": 3,
      "outputs": [
        {
          "output_type": "execute_result",
          "data": {
            "text/plain": [
              "array([0., 1., 1., ..., 0., 0., 0.])"
            ]
          },
          "metadata": {
            "tags": []
          },
          "execution_count": 3
        }
      ]
    },
    {
      "cell_type": "code",
      "metadata": {
        "colab": {
          "base_uri": "https://localhost:8080/"
        },
        "id": "Ps6Bp1gzWfq_",
        "outputId": "7a8f8356-9194-40e8-d8c4-725e1ddb7829"
      },
      "source": [
        "net = models.Sequential()\n",
        "net.add(layers.Dense(16, activation='relu', input_shape=(10000,)))\n",
        "net.add(layers.Dropout(0.5))\n",
        "net.add(layers.Dense(16, activation='relu'))\n",
        "net.add(layers.Dropout(0.5))\n",
        "net.add(layers.Dense(1, activation='sigmoid'))\n",
        "net.compile(optimizer='nadam', loss='binary_crossentropy', metrics = ['acc'])\n",
        "\n",
        "X_val = X_train[:10000]\n",
        "partial_X_train = X_train[10000:]\n",
        "\n",
        "y_val = y_train[:10000]\n",
        "partial_y_train = y_train[10000:]\n",
        "\n",
        "val = net.fit(partial_X_train, partial_y_train, epochs=5, batch_size=128, validation_data=(X_val, y_val))"
      ],
      "execution_count": 4,
      "outputs": [
        {
          "output_type": "stream",
          "text": [
            "Epoch 1/5\n",
            "118/118 [==============================] - 2s 14ms/step - loss: 0.5982 - acc: 0.6667 - val_loss: 0.4160 - val_acc: 0.8544\n",
            "Epoch 2/5\n",
            "118/118 [==============================] - 1s 12ms/step - loss: 0.3896 - acc: 0.8487 - val_loss: 0.2850 - val_acc: 0.8875\n",
            "Epoch 3/5\n",
            "118/118 [==============================] - 1s 12ms/step - loss: 0.2886 - acc: 0.8980 - val_loss: 0.2706 - val_acc: 0.8893\n",
            "Epoch 4/5\n",
            "118/118 [==============================] - 1s 12ms/step - loss: 0.2251 - acc: 0.9220 - val_loss: 0.2796 - val_acc: 0.8866\n",
            "Epoch 5/5\n",
            "118/118 [==============================] - 1s 12ms/step - loss: 0.1798 - acc: 0.9353 - val_loss: 0.3037 - val_acc: 0.8864\n"
          ],
          "name": "stdout"
        }
      ]
    },
    {
      "cell_type": "code",
      "metadata": {
        "colab": {
          "base_uri": "https://localhost:8080/",
          "height": 283
        },
        "id": "zzN04IrAWh88",
        "outputId": "af6f6765-fbd0-4e47-ccf1-20d53d1c297d"
      },
      "source": [
        "val_dict = val.history\n",
        "loss = val_dict['loss']\n",
        "val_loss = val_dict['val_loss']\n",
        "x = np.arange(0,len(loss))\n",
        "\n",
        "plt.plot(x,loss,'-')\n",
        "plt.plot(x,val_loss,'o')"
      ],
      "execution_count": 5,
      "outputs": [
        {
          "output_type": "execute_result",
          "data": {
            "text/plain": [
              "[<matplotlib.lines.Line2D at 0x7fb8dfcf2e10>]"
            ]
          },
          "metadata": {
            "tags": []
          },
          "execution_count": 5
        },
        {
          "output_type": "display_data",
          "data": {
            "image/png": "[encoded data removed]",
            "text/plain": [
              "<Figure size 432x288 with 1 Axes>"
            ]
          },
          "metadata": {
            "tags": [],
            "needs_background": "light"
          }
        }
      ]
    },
    {
      "cell_type": "code",
      "metadata": {
        "colab": {
          "base_uri": "https://localhost:8080/"
        },
        "id": "iTYrqCKFWsir",
        "outputId": "e226d783-48c4-4b67-ad4b-52ffa56df739"
      },
      "source": [
        "test_loss, test_acc = net.evaluate(X_test,y_test)"
      ],
      "execution_count": 6,
      "outputs": [
        {
          "output_type": "stream",
          "text": [
            "782/782 [==============================] - 1s 2ms/step - loss: 0.3257 - acc: 0.8786\n"
          ],
          "name": "stdout"
        }
      ]
    },
    {
      "cell_type": "code",
      "metadata": {
        "id": "sPtdbQGjWwzh"
      },
      "source": [
        "from keras.preprocessing import sequence\n",
        "\n",
        "max_words=10000 \n",
        "(X_train, y_train), (X_test, y_test) = imdb.load_data(num_words=max_words)\n",
        "\n",
        "maxlen = 100 \n",
        "X_train = sequence.pad_sequences(X_train, maxlen=maxlen)\n",
        "X_test = sequence.pad_sequences(X_test, maxlen=maxlen)"
      ],
      "execution_count": 35,
      "outputs": []
    },
    {
      "cell_type": "code",
      "metadata": {
        "id": "RjwgaK5wiKtB"
      },
      "source": [
        "rnn = models.Sequential()\n",
        "rnn.add(layers.Embedding(max_words, 16)) \n",
        "rnn.add(layers.SimpleRNN(32,activation = 'relu',return_sequences = True)) \n",
        "rnn.add(layers.Dropout(0.2))\n",
        "rnn.add(layers.Dense(1,activation = 'sigmoid'))\n",
        "rnn.compile(optimizer = 'nadam',loss = 'binary_crossentropy',metrics = ['acc'])"
      ],
      "execution_count": 75,
      "outputs": []
    },
    {
      "cell_type": "code",
      "metadata": {
        "colab": {
          "base_uri": "https://localhost:8080/"
        },
        "id": "3lhEb8M0iu-E",
        "outputId": "c326507b-6a4c-43c9-aa64-73d67105e7f9"
      },
      "source": [
        "rnn.summary()"
      ],
      "execution_count": 71,
      "outputs": [
        {
          "output_type": "stream",
          "text": [
            "Model: \"sequential_20\"\n",
            "_________________________________________________________________\n",
            "Layer (type)                 Output Shape              Param #   \n",
            "=================================================================\n",
            "embedding_14 (Embedding)     (None, None, 16)          160000    \n",
            "_________________________________________________________________\n",
            "simple_rnn_21 (SimpleRNN)    (None, None, 32)          1568      \n",
            "_________________________________________________________________\n",
            "dropout_20 (Dropout)         (None, None, 32)          0         \n",
            "_________________________________________________________________\n",
            "dense_19 (Dense)             (None, None, 1)           33        \n",
            "=================================================================\n",
            "Total params: 161,601\n",
            "Trainable params: 161,601\n",
            "Non-trainable params: 0\n",
            "_________________________________________________________________\n"
          ],
          "name": "stdout"
        }
      ]
    },
    {
      "cell_type": "code",
      "metadata": {
        "colab": {
          "base_uri": "https://localhost:8080/"
        },
        "id": "zMjuj7sWjCtv",
        "outputId": "fa3efce6-ea56-4d4c-ba53-8ba170acb94c"
      },
      "source": [
        "history = rnn.fit(X_train,y_train,epochs = 30 ,batch_size = 128,verbose=1,validation_split = 0.2)"
      ],
      "execution_count": 78,
      "outputs": [
        {
          "output_type": "stream",
          "text": [
            "Epoch 1/30\n",
            "157/157 [==============================] - 5s 34ms/step - loss: 0.2921 - acc: 0.8674 - val_loss: 0.8994 - val_acc: 0.7102\n",
            "Epoch 2/30\n",
            "157/157 [==============================] - 5s 34ms/step - loss: 0.2456 - acc: 0.8865 - val_loss: 1.0251 - val_acc: 0.7076\n",
            "Epoch 3/30\n",
            "157/157 [==============================] - 5s 34ms/step - loss: 0.2273 - acc: 0.8941 - val_loss: 0.9600 - val_acc: 0.7101\n",
            "Epoch 4/30\n",
            "157/157 [==============================] - 5s 34ms/step - loss: 0.2276 - acc: 0.8950 - val_loss: 0.9874 - val_acc: 0.7079\n",
            "Epoch 5/30\n",
            "157/157 [==============================] - 5s 34ms/step - loss: 0.2204 - acc: 0.8974 - val_loss: 2.3092 - val_acc: 0.6622\n",
            "Epoch 6/30\n",
            "157/157 [==============================] - 5s 34ms/step - loss: 0.2489 - acc: 0.8893 - val_loss: 0.9438 - val_acc: 0.7096\n",
            "Epoch 7/30\n",
            "157/157 [==============================] - 5s 35ms/step - loss: 0.2154 - acc: 0.8982 - val_loss: 1.2234 - val_acc: 0.7035\n",
            "Epoch 8/30\n",
            "157/157 [==============================] - 5s 34ms/step - loss: 0.2018 - acc: 0.9045 - val_loss: 1.1685 - val_acc: 0.6990\n",
            "Epoch 9/30\n",
            "157/157 [==============================] - 5s 34ms/step - loss: 0.1949 - acc: 0.9066 - val_loss: 1.1527 - val_acc: 0.6992\n",
            "Epoch 10/30\n",
            "157/157 [==============================] - 5s 34ms/step - loss: 0.2003 - acc: 0.9064 - val_loss: 1.2853 - val_acc: 0.6984\n",
            "Epoch 11/30\n",
            "157/157 [==============================] - 5s 35ms/step - loss: 0.1807 - acc: 0.9129 - val_loss: 1.4106 - val_acc: 0.6930\n",
            "Epoch 12/30\n",
            "157/157 [==============================] - 6s 35ms/step - loss: 0.1835 - acc: 0.9122 - val_loss: 1.3962 - val_acc: 0.6953\n",
            "Epoch 13/30\n",
            "157/157 [==============================] - 5s 34ms/step - loss: 0.1801 - acc: 0.9140 - val_loss: 1.1369 - val_acc: 0.6989\n",
            "Epoch 14/30\n",
            "157/157 [==============================] - 5s 34ms/step - loss: 0.1713 - acc: 0.9173 - val_loss: 1.4298 - val_acc: 0.6895\n",
            "Epoch 15/30\n",
            "157/157 [==============================] - 5s 35ms/step - loss: 0.2661 - acc: 0.8961 - val_loss: 0.8003 - val_acc: 0.7011\n",
            "Epoch 16/30\n",
            "157/157 [==============================] - 6s 35ms/step - loss: 0.2051 - acc: 0.9048 - val_loss: 1.0779 - val_acc: 0.6940\n",
            "Epoch 17/30\n",
            "157/157 [==============================] - 5s 35ms/step - loss: 0.1879 - acc: 0.9114 - val_loss: 1.5045 - val_acc: 0.6882\n",
            "Epoch 18/30\n",
            "157/157 [==============================] - 5s 35ms/step - loss: 0.1848 - acc: 0.9126 - val_loss: 1.2444 - val_acc: 0.6937\n",
            "Epoch 19/30\n",
            "157/157 [==============================] - 5s 34ms/step - loss: 0.1644 - acc: 0.9201 - val_loss: 1.1914 - val_acc: 0.6942\n",
            "Epoch 20/30\n",
            "157/157 [==============================] - 5s 35ms/step - loss: 0.1652 - acc: 0.9197 - val_loss: 2.0059 - val_acc: 0.6806\n",
            "Epoch 21/30\n",
            "157/157 [==============================] - 5s 34ms/step - loss: 0.2044 - acc: 0.9038 - val_loss: 1.4221 - val_acc: 0.6914\n",
            "Epoch 22/30\n",
            "157/157 [==============================] - 5s 34ms/step - loss: 0.1631 - acc: 0.9211 - val_loss: 1.7077 - val_acc: 0.6837\n",
            "Epoch 23/30\n",
            "157/157 [==============================] - 6s 35ms/step - loss: 0.1625 - acc: 0.9215 - val_loss: 2.3776 - val_acc: 0.6653\n",
            "Epoch 24/30\n",
            "157/157 [==============================] - 6s 36ms/step - loss: 0.1718 - acc: 0.9202 - val_loss: 1.6235 - val_acc: 0.6863\n",
            "Epoch 25/30\n",
            "157/157 [==============================] - 5s 34ms/step - loss: 0.1474 - acc: 0.9272 - val_loss: 1.8990 - val_acc: 0.6806\n",
            "Epoch 26/30\n",
            "157/157 [==============================] - 5s 35ms/step - loss: 0.2470 - acc: 0.8929 - val_loss: 0.9837 - val_acc: 0.7009\n",
            "Epoch 27/30\n",
            "157/157 [==============================] - 7s 46ms/step - loss: 0.1747 - acc: 0.9167 - val_loss: 1.4859 - val_acc: 0.6891\n",
            "Epoch 28/30\n",
            "157/157 [==============================] - 5s 35ms/step - loss: 0.1594 - acc: 0.9229 - val_loss: 1.6099 - val_acc: 0.6880\n",
            "Epoch 29/30\n",
            "157/157 [==============================] - 5s 34ms/step - loss: 0.1457 - acc: 0.9276 - val_loss: 1.9156 - val_acc: 0.6804\n",
            "Epoch 30/30\n",
            "157/157 [==============================] - 5s 34ms/step - loss: 0.1582 - acc: 0.9237 - val_loss: 1.6043 - val_acc: 0.6822\n"
          ],
          "name": "stdout"
        }
      ]
    },
    {
      "cell_type": "code",
      "metadata": {
        "colab": {
          "base_uri": "https://localhost:8080/",
          "height": 283
        },
        "id": "1RPKAIWxpUAd",
        "outputId": "c2ebcc2c-f7dc-4478-bda1-85e66c5200a8"
      },
      "source": [
        "loss=history.history['loss']\n",
        "val=history.history['val_loss']\n",
        "plt.plot(loss)\n",
        "plt.plot(val,'o')"
      ],
      "execution_count": 79,
      "outputs": [
        {
          "output_type": "execute_result",
          "data": {
            "text/plain": [
              "[<matplotlib.lines.Line2D at 0x7fb8d8231e48>]"
            ]
          },
          "metadata": {
            "tags": []
          },
          "execution_count": 79
        },
        {
          "output_type": "display_data",
          "data": {
            "image/png": "[encoded data removed]",
            "text/plain": [
              "<Figure size 432x288 with 1 Axes>"
            ]
          },
          "metadata": {
            "tags": [],
            "needs_background": "light"
          }
        }
      ]
    },
    {
      "cell_type": "code",
      "metadata": {
        "colab": {
          "base_uri": "https://localhost:8080/"
        },
        "id": "jw4EV2GnqL15",
        "outputId": "49758a94-60c5-4088-f90c-5156ff94c7fc"
      },
      "source": [
        "rnn_test_loss, rnn_test_acc = rnn.evaluate(X_test,y_test)"
      ],
      "execution_count": 81,
      "outputs": [
        {
          "output_type": "stream",
          "text": [
            "782/782 [==============================] - 5s 6ms/step - loss: 1.6269 - acc: 0.6729\n"
          ],
          "name": "stdout"
        }
      ]
    },
    {
      "cell_type": "code",
      "metadata": {
        "colab": {
          "base_uri": "https://localhost:8080/"
        },
        "id": "ajAUJia8qOEm",
        "outputId": "85d9eb08-186a-4e75-a9b7-7fe5ae6682ee"
      },
      "source": [
        "print(rnn_test_loss,rnn_test_acc)"
      ],
      "execution_count": 82,
      "outputs": [
        {
          "output_type": "stream",
          "text": [
            "1.6268982887268066 0.672876238822937\n"
          ],
          "name": "stdout"
        }
      ]
    },
    {
      "cell_type": "code",
      "metadata": {
        "id": "UGr2IFhZqrxq"
      },
      "source": [
        ""
      ],
      "execution_count": null,
      "outputs": []
    }
  ]
}